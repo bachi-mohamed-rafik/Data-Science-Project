{
  "nbformat": 4,
  "nbformat_minor": 0,
  "metadata": {
    "colab": {
      "name": "Beginner4. Boston Housing Data Set.ipynb",
      "provenance": [],
      "collapsed_sections": [],
      "authorship_tag": "ABX9TyPmGgv/Ex1hmz4xPu45it20",
      "include_colab_link": true
    },
    "kernelspec": {
      "name": "python3",
      "display_name": "Python 3"
    }
  },
  "cells": [
    {
      "cell_type": "markdown",
      "metadata": {
        "id": "view-in-github",
        "colab_type": "text"
      },
      "source": [
        "<a href=\"https://colab.research.google.com/github/bachi-mohamed-rafik/Data-Science-Project/blob/main/Beginner4_Boston_Housing_Data_Set.ipynb\" target=\"_parent\"><img src=\"https://colab.research.google.com/assets/colab-badge.svg\" alt=\"Open In Colab\"/></a>"
      ]
    },
    {
      "cell_type": "markdown",
      "metadata": {
        "id": "dwgBdPnhCBZn"
      },
      "source": [
        "#The Boston Housing Dataset\r\n",
        "This is another popular dataset used in pattern recognition literature. The data set comes from the real estate industry in Boston (US). This is a regression problem. The data has 506 rows and 14 columns. Thus, it’s a fairly small data set where you can attempt any technique without worrying about your laptop’s memory being overused.\r\n",
        "\r\n",
        "Problem: Predict the median value of owner occupied homes.\r\n",
        "\r\n"
      ]
    },
    {
      "cell_type": "code",
      "metadata": {
        "colab": {
          "base_uri": "https://localhost:8080/"
        },
        "id": "32duxy3RB_0S",
        "outputId": "6b1f05cf-f473-4875-c156-38c47898d5f3"
      },
      "source": [
        "#import libraries\r\n",
        "from sklearn import datasets\r\n",
        "import matplotlib.pyplot as plt \r\n",
        "#Load Boston Housing Dataset\r\n",
        "\r\n",
        "# Load digits dataset\r\n",
        "boston = datasets.load_boston()\r\n",
        "\r\n",
        "# Create feature matrix\r\n",
        "X = boston.data\r\n",
        "print(\"X:\\n\",X)\r\n",
        "# Create target vector\r\n",
        "y = boston.target\r\n",
        "print(\"y:\\n\",y)"
      ],
      "execution_count": 5,
      "outputs": [
        {
          "output_type": "stream",
          "text": [
            "X:\n",
            " [[6.3200e-03 1.8000e+01 2.3100e+00 ... 1.5300e+01 3.9690e+02 4.9800e+00]\n",
            " [2.7310e-02 0.0000e+00 7.0700e+00 ... 1.7800e+01 3.9690e+02 9.1400e+00]\n",
            " [2.7290e-02 0.0000e+00 7.0700e+00 ... 1.7800e+01 3.9283e+02 4.0300e+00]\n",
            " ...\n",
            " [6.0760e-02 0.0000e+00 1.1930e+01 ... 2.1000e+01 3.9690e+02 5.6400e+00]\n",
            " [1.0959e-01 0.0000e+00 1.1930e+01 ... 2.1000e+01 3.9345e+02 6.4800e+00]\n",
            " [4.7410e-02 0.0000e+00 1.1930e+01 ... 2.1000e+01 3.9690e+02 7.8800e+00]]\n",
            "y:\n",
            " [24.  21.6 34.7 33.4 36.2 28.7 22.9 27.1 16.5 18.9 15.  18.9 21.7 20.4\n",
            " 18.2 19.9 23.1 17.5 20.2 18.2 13.6 19.6 15.2 14.5 15.6 13.9 16.6 14.8\n",
            " 18.4 21.  12.7 14.5 13.2 13.1 13.5 18.9 20.  21.  24.7 30.8 34.9 26.6\n",
            " 25.3 24.7 21.2 19.3 20.  16.6 14.4 19.4 19.7 20.5 25.  23.4 18.9 35.4\n",
            " 24.7 31.6 23.3 19.6 18.7 16.  22.2 25.  33.  23.5 19.4 22.  17.4 20.9\n",
            " 24.2 21.7 22.8 23.4 24.1 21.4 20.  20.8 21.2 20.3 28.  23.9 24.8 22.9\n",
            " 23.9 26.6 22.5 22.2 23.6 28.7 22.6 22.  22.9 25.  20.6 28.4 21.4 38.7\n",
            " 43.8 33.2 27.5 26.5 18.6 19.3 20.1 19.5 19.5 20.4 19.8 19.4 21.7 22.8\n",
            " 18.8 18.7 18.5 18.3 21.2 19.2 20.4 19.3 22.  20.3 20.5 17.3 18.8 21.4\n",
            " 15.7 16.2 18.  14.3 19.2 19.6 23.  18.4 15.6 18.1 17.4 17.1 13.3 17.8\n",
            " 14.  14.4 13.4 15.6 11.8 13.8 15.6 14.6 17.8 15.4 21.5 19.6 15.3 19.4\n",
            " 17.  15.6 13.1 41.3 24.3 23.3 27.  50.  50.  50.  22.7 25.  50.  23.8\n",
            " 23.8 22.3 17.4 19.1 23.1 23.6 22.6 29.4 23.2 24.6 29.9 37.2 39.8 36.2\n",
            " 37.9 32.5 26.4 29.6 50.  32.  29.8 34.9 37.  30.5 36.4 31.1 29.1 50.\n",
            " 33.3 30.3 34.6 34.9 32.9 24.1 42.3 48.5 50.  22.6 24.4 22.5 24.4 20.\n",
            " 21.7 19.3 22.4 28.1 23.7 25.  23.3 28.7 21.5 23.  26.7 21.7 27.5 30.1\n",
            " 44.8 50.  37.6 31.6 46.7 31.5 24.3 31.7 41.7 48.3 29.  24.  25.1 31.5\n",
            " 23.7 23.3 22.  20.1 22.2 23.7 17.6 18.5 24.3 20.5 24.5 26.2 24.4 24.8\n",
            " 29.6 42.8 21.9 20.9 44.  50.  36.  30.1 33.8 43.1 48.8 31.  36.5 22.8\n",
            " 30.7 50.  43.5 20.7 21.1 25.2 24.4 35.2 32.4 32.  33.2 33.1 29.1 35.1\n",
            " 45.4 35.4 46.  50.  32.2 22.  20.1 23.2 22.3 24.8 28.5 37.3 27.9 23.9\n",
            " 21.7 28.6 27.1 20.3 22.5 29.  24.8 22.  26.4 33.1 36.1 28.4 33.4 28.2\n",
            " 22.8 20.3 16.1 22.1 19.4 21.6 23.8 16.2 17.8 19.8 23.1 21.  23.8 23.1\n",
            " 20.4 18.5 25.  24.6 23.  22.2 19.3 22.6 19.8 17.1 19.4 22.2 20.7 21.1\n",
            " 19.5 18.5 20.6 19.  18.7 32.7 16.5 23.9 31.2 17.5 17.2 23.1 24.5 26.6\n",
            " 22.9 24.1 18.6 30.1 18.2 20.6 17.8 21.7 22.7 22.6 25.  19.9 20.8 16.8\n",
            " 21.9 27.5 21.9 23.1 50.  50.  50.  50.  50.  13.8 13.8 15.  13.9 13.3\n",
            " 13.1 10.2 10.4 10.9 11.3 12.3  8.8  7.2 10.5  7.4 10.2 11.5 15.1 23.2\n",
            "  9.7 13.8 12.7 13.1 12.5  8.5  5.   6.3  5.6  7.2 12.1  8.3  8.5  5.\n",
            " 11.9 27.9 17.2 27.5 15.  17.2 17.9 16.3  7.   7.2  7.5 10.4  8.8  8.4\n",
            " 16.7 14.2 20.8 13.4 11.7  8.3 10.2 10.9 11.   9.5 14.5 14.1 16.1 14.3\n",
            " 11.7 13.4  9.6  8.7  8.4 12.8 10.5 17.1 18.4 15.4 10.8 11.8 14.9 12.6\n",
            " 14.1 13.  13.4 15.2 16.1 17.8 14.9 14.1 12.7 13.5 14.9 20.  16.4 17.7\n",
            " 19.5 20.2 21.4 19.9 19.  19.1 19.1 20.1 19.9 19.6 23.2 29.8 13.8 13.3\n",
            " 16.7 12.  14.6 21.4 23.  23.7 25.  21.8 20.6 21.2 19.1 20.6 15.2  7.\n",
            "  8.1 13.6 20.1 21.8 24.5 23.1 19.7 18.3 21.2 17.5 16.8 22.4 20.6 23.9\n",
            " 22.  11.9]\n"
          ],
          "name": "stdout"
        }
      ]
    },
    {
      "cell_type": "code",
      "metadata": {
        "colab": {
          "base_uri": "https://localhost:8080/"
        },
        "id": "3aEc22mpGZL8",
        "outputId": "8b50f39c-ac6d-42dc-ed7f-dcf05aa8bc1d"
      },
      "source": [
        "#split the data\r\n",
        "from sklearn.model_selection import train_test_split\r\n",
        "x_train,x_test,y_train,y_test=train_test_split(X,y,test_size=0.2)\r\n",
        "x_train=x_train.astype('int')\r\n",
        "\r\n",
        "x_test=x_test.astype('int')\r\n",
        "y_train=y_train.astype('int')\r\n",
        "y_test=y_test.astype('int')\r\n",
        "\r\n",
        "print(\"x_train:\\n\",x_train)\r\n",
        "print(\"x_test:\\n\",x_test)\r\n",
        "print(\"y_train:\\n\",y_train)\r\n",
        "print(\"y_test:\\n\",y_test)\r\n"
      ],
      "execution_count": 9,
      "outputs": [
        {
          "output_type": "stream",
          "text": [
            "x_train:\n",
            " [[  7   0  18 ...  20 272  16]\n",
            " [  0  12   7 ...  15 396  13]\n",
            " [  2   0  19 ...  14 261  15]\n",
            " ...\n",
            " [  0   0   5 ...  20 389   5]\n",
            " [  3   0  18 ...  20 350  14]\n",
            " [  0   0   3 ...  17 392   8]]\n",
            "x_test:\n",
            " [[  0   0  10 ...  18 395  23]\n",
            " [  0  22   5 ...  19 376  10]\n",
            " [  0   0   5 ...  19 396   9]\n",
            " ...\n",
            " [  6   0  18 ...  20 392   2]\n",
            " [  0   0  21 ...  21 388  24]\n",
            " [  0  40   6 ...  17 396   7]]\n",
            "y_train:\n",
            " [14 18 19 14 20 19 36 19 21 21 27 24 24 18 20 43 15 23 13 19 25 16 14 20\n",
            " 12  9 48 24 50 21 19 10 16 20 24 17 20 18 13 19 22 19 50 16 12 22 11 11\n",
            " 19 17 21 32 21 35 50 10 21 30 17 17 48 16 21 30 10 50  8 25 19 22 22 24\n",
            " 28 32 13 28 22 24 24 19 41 20 19 10  5 23 12 22 20  8 27 17  9 19 10 27\n",
            " 25 50 22 31 23 13 13 37 46 17 16 13 21 15 13 21 26 28 17 16 16 22 30 34\n",
            " 23 10 23 27 13 15 31 21 18 24 21 22 23 33 27 24 20 28 23 13 20  8 29 50\n",
            " 20 44 18 22  8 17 10 12 13 18 20 23 32 19 13 38 20 31 22 25 36 20 18 18\n",
            " 28 21 30 20 24 13 20 22 43 28 24 35 36 20  6 22 32 23 26 22 20 26 23 24\n",
            " 19 29 24  7 30 28 25 14 15 19 36 34 18 24 23 13 20 14 27 29 21 20 25 23\n",
            " 19 23 28 21 21 12 14 23 16 19 50 46 32 36 33 21 13 20 14 42 23 35 17  8\n",
            " 23 24 16 20 21 20 23 15 16 24 17 22  7 17 13 34 19 20 15 24 20 14 21 23\n",
            " 20 29 30 22 22 19 14 45 22 23 30 14 16 21 23 26 15  7 26 31 22 25 14 17\n",
            "  7 21 16 17 22 16 50 18 12 15 19 23 32 37 21 39 14 50 35 18  8 13 13 18\n",
            " 36 37 20 33 13 11 19  8  8 23 23 17 18 17 19 16 43 26 20  7 14 29 20 19\n",
            " 13 37 10 32 24 19 13 18  8 25 19 11 11 34 11 20 12 23 15 22 15 22 14 31\n",
            " 21 24 24 50 22 19 21 17 19 24 41 33 21 20 42 18 15 17 23 22 18 21 21 18\n",
            " 10 27 33 33 18 23 23 13  9 24 18 18  5 12 15 17 20 22 19 22]\n",
            "y_test:\n",
            " [19 20 18 16 48 21  7 14 23 13 14 12 23 22 22 19 26 50 25 20 11 23 13 19\n",
            "  8 33 20 23 18 11 37 26 31 19 33 18 19 21 15 22 50 18 22 19  5 29 31 23\n",
            " 18 31 28 29 50 20 23 15 19 19 20 17 21 25 34 27 23 11 15 22 17 22 24 13\n",
            " 33 29 16  7 50 28 15 29 17 24 24 21 23 22 19 14 23 25 44 21 27 22 17 10\n",
            " 50 22 23 50 14 29]\n"
          ],
          "name": "stdout"
        }
      ]
    },
    {
      "cell_type": "code",
      "metadata": {
        "colab": {
          "base_uri": "https://localhost:8080/"
        },
        "id": "h03n8TuwIC4r",
        "outputId": "a729f9be-bae1-452c-f354-331c36d54a58"
      },
      "source": [
        "from sklearn.neighbors import KNeighborsClassifier\r\n",
        "classifier = KNeighborsClassifier(n_neighbors=5)\r\n",
        "classifier.fit(x_train, y_train)\r\n"
      ],
      "execution_count": 10,
      "outputs": [
        {
          "output_type": "execute_result",
          "data": {
            "text/plain": [
              "KNeighborsClassifier(algorithm='auto', leaf_size=30, metric='minkowski',\n",
              "                     metric_params=None, n_jobs=None, n_neighbors=5, p=2,\n",
              "                     weights='uniform')"
            ]
          },
          "metadata": {
            "tags": []
          },
          "execution_count": 10
        }
      ]
    },
    {
      "cell_type": "code",
      "metadata": {
        "colab": {
          "base_uri": "https://localhost:8080/"
        },
        "id": "CEHDPOvIJEqx",
        "outputId": "2b41db2c-a09d-4320-8327-62c81d95e39e"
      },
      "source": [
        "y_pred=classifier.predict(x_test)\r\n",
        "print(y_pred)"
      ],
      "execution_count": 13,
      "outputs": [
        {
          "output_type": "stream",
          "text": [
            "[21 18 22  8 24 16 10 17 50 12 14  8 23 18 22 15 26 50 19 21 19 15 14 15\n",
            "  7 24 19 19 19  7 28 21 18 19 20 29 15 21 18 23 36 18 22 13 10 20 24 21\n",
            " 13 36 23 24 50 20 19 13 19 16 23 14 19 25 29 28 24 12 12 24 16 23 22 12\n",
            " 19 22 13  8 24 21 13 16 23 29 24 17 24 21 19 13 24 15 25 20 14 22 15  5\n",
            " 30 19 19 13 13 32]\n"
          ],
          "name": "stdout"
        }
      ]
    }
  ]
}