{
  "nbformat": 4,
  "nbformat_minor": 0,
  "metadata": {
    "colab": {
      "name": "Beginner1. Iris Data Set.ipynb",
      "provenance": [],
      "collapsed_sections": [],
      "authorship_tag": "ABX9TyNXT6oZliKG4OrfZnq+MDa3",
      "include_colab_link": true
    },
    "kernelspec": {
      "name": "python3",
      "display_name": "Python 3"
    }
  },
  "cells": [
    {
      "cell_type": "markdown",
      "metadata": {
        "id": "view-in-github",
        "colab_type": "text"
      },
      "source": [
        "<a href=\"https://colab.research.google.com/github/bachi-mohamed-rafik/Data-Science-Project/blob/main/Beginner1_Iris_Data_Set.ipynb\" target=\"_parent\"><img src=\"https://colab.research.google.com/assets/colab-badge.svg\" alt=\"Open In Colab\"/></a>"
      ]
    },
    {
      "cell_type": "markdown",
      "metadata": {
        "id": "6qIx4zFtnnVZ"
      },
      "source": [
        "Iris Data Set\r\n",
        "iris_dataset_scatterplot-svg \r\n",
        "This is probably the most versatile, easy and resourceful dataset in pattern recognition literature. Nothing could be simpler than the Iris dataset to learn classification techniques. If you are totally new to data science, this is your start line. The data has only 150 rows & 4 columns.\r\n",
        "\r\n",
        "Problem: Predict the class of the flower based on available attributes."
      ]
    },
    {
      "cell_type": "code",
      "metadata": {
        "id": "DO5TBlqMiMFN"
      },
      "source": [
        "import pandas as pd\r\n"
      ],
      "execution_count": 28,
      "outputs": []
    },
    {
      "cell_type": "code",
      "metadata": {
        "colab": {
          "base_uri": "https://localhost:8080/",
          "height": 290
        },
        "id": "UuUz03sm6XMH",
        "outputId": "88f41ce3-5a8c-4681-8e0c-a754ad56b467"
      },
      "source": [
        "bezdekIris=pd.read_csv('https://archive.ics.uci.edu/ml/machine-learning-databases/iris/bezdekIris.data')\r\n",
        "#print(\"bezdekIris:\\n\",bezdekIris)\r\n",
        "t1=bezdekIris.columns\r\n",
        "bezdekIris.loc[-1] =t1 \r\n",
        "bezdekIris.index = bezdekIris.index + 1\r\n",
        "print(\"bezdekIris:\\n\",bezdekIris)\r\n",
        "'''\r\n",
        "print(bezdekIris.columns)\r\n",
        "print(type(bezdekIris))\r\n",
        "'''"
      ],
      "execution_count": 29,
      "outputs": [
        {
          "output_type": "stream",
          "text": [
            "bezdekIris:\n",
            "      5.1  3.5  1.4  0.2     Iris-setosa\n",
            "1    4.9    3  1.4  0.2     Iris-setosa\n",
            "2    4.7  3.2  1.3  0.2     Iris-setosa\n",
            "3    4.6  3.1  1.5  0.2     Iris-setosa\n",
            "4      5  3.6  1.4  0.2     Iris-setosa\n",
            "5    5.4  3.9  1.7  0.4     Iris-setosa\n",
            "..   ...  ...  ...  ...             ...\n",
            "146  6.3  2.5    5  1.9  Iris-virginica\n",
            "147  6.5    3  5.2    2  Iris-virginica\n",
            "148  6.2  3.4  5.4  2.3  Iris-virginica\n",
            "149  5.9    3  5.1  1.8  Iris-virginica\n",
            "0    5.1  3.5  1.4  0.2     Iris-setosa\n",
            "\n",
            "[150 rows x 5 columns]\n"
          ],
          "name": "stdout"
        },
        {
          "output_type": "execute_result",
          "data": {
            "application/vnd.google.colaboratory.intrinsic+json": {
              "type": "string"
            },
            "text/plain": [
              "'\\nprint(bezdekIris.columns)\\nprint(type(bezdekIris))\\n'"
            ]
          },
          "metadata": {
            "tags": []
          },
          "execution_count": 29
        }
      ]
    },
    {
      "cell_type": "code",
      "metadata": {
        "colab": {
          "base_uri": "https://localhost:8080/"
        },
        "id": "10Bt-KFI6kbW",
        "outputId": "4c7c305f-76cc-4c9d-b6b1-cd115b8bd6d4"
      },
      "source": [
        "bezdekIris=bezdekIris.reset_index()\r\n",
        "print(bezdekIris)\r\n",
        "bezdekIris = bezdekIris.drop('index', 1)\r\n",
        "#bezdekIris = bezdekIris.drop('level_0', 1)\r\n",
        "#td=['index']\r\n",
        "#bezdekIris.drop(['index'],axis=1)\r\n",
        "print(bezdekIris)"
      ],
      "execution_count": 30,
      "outputs": [
        {
          "output_type": "stream",
          "text": [
            "     index  5.1  3.5  1.4  0.2     Iris-setosa\n",
            "0        1  4.9    3  1.4  0.2     Iris-setosa\n",
            "1        2  4.7  3.2  1.3  0.2     Iris-setosa\n",
            "2        3  4.6  3.1  1.5  0.2     Iris-setosa\n",
            "3        4    5  3.6  1.4  0.2     Iris-setosa\n",
            "4        5  5.4  3.9  1.7  0.4     Iris-setosa\n",
            "..     ...  ...  ...  ...  ...             ...\n",
            "145    146  6.3  2.5    5  1.9  Iris-virginica\n",
            "146    147  6.5    3  5.2    2  Iris-virginica\n",
            "147    148  6.2  3.4  5.4  2.3  Iris-virginica\n",
            "148    149  5.9    3  5.1  1.8  Iris-virginica\n",
            "149      0  5.1  3.5  1.4  0.2     Iris-setosa\n",
            "\n",
            "[150 rows x 6 columns]\n",
            "     5.1  3.5  1.4  0.2     Iris-setosa\n",
            "0    4.9    3  1.4  0.2     Iris-setosa\n",
            "1    4.7  3.2  1.3  0.2     Iris-setosa\n",
            "2    4.6  3.1  1.5  0.2     Iris-setosa\n",
            "3      5  3.6  1.4  0.2     Iris-setosa\n",
            "4    5.4  3.9  1.7  0.4     Iris-setosa\n",
            "..   ...  ...  ...  ...             ...\n",
            "145  6.3  2.5    5  1.9  Iris-virginica\n",
            "146  6.5    3  5.2    2  Iris-virginica\n",
            "147  6.2  3.4  5.4  2.3  Iris-virginica\n",
            "148  5.9    3  5.1  1.8  Iris-virginica\n",
            "149  5.1  3.5  1.4  0.2     Iris-setosa\n",
            "\n",
            "[150 rows x 5 columns]\n"
          ],
          "name": "stdout"
        }
      ]
    },
    {
      "cell_type": "code",
      "metadata": {
        "colab": {
          "base_uri": "https://localhost:8080/"
        },
        "id": "rFv8XPjPEccM",
        "outputId": "c0553708-bd0c-45a3-8e6f-fd36f418eead"
      },
      "source": [
        "#set column names to our dataframe\r\n",
        "\r\n",
        "bezdekIris=bezdekIris.rename(columns={\"5.1\": \"sepal_length\", \"3.5\": \"sepal_width\",\"1.4\": \"petal_length\", \"0.2\": \"petal_width\",\"Iris-setosa\": \"class\"})\r\n",
        "print(bezdekIris)\r\n"
      ],
      "execution_count": 31,
      "outputs": [
        {
          "output_type": "stream",
          "text": [
            "    sepal_length sepal_width petal_length petal_width           class\n",
            "0            4.9           3          1.4         0.2     Iris-setosa\n",
            "1            4.7         3.2          1.3         0.2     Iris-setosa\n",
            "2            4.6         3.1          1.5         0.2     Iris-setosa\n",
            "3              5         3.6          1.4         0.2     Iris-setosa\n",
            "4            5.4         3.9          1.7         0.4     Iris-setosa\n",
            "..           ...         ...          ...         ...             ...\n",
            "145          6.3         2.5            5         1.9  Iris-virginica\n",
            "146          6.5           3          5.2           2  Iris-virginica\n",
            "147          6.2         3.4          5.4         2.3  Iris-virginica\n",
            "148          5.9           3          5.1         1.8  Iris-virginica\n",
            "149          5.1         3.5          1.4         0.2     Iris-setosa\n",
            "\n",
            "[150 rows x 5 columns]\n"
          ],
          "name": "stdout"
        }
      ]
    },
    {
      "cell_type": "code",
      "metadata": {
        "colab": {
          "base_uri": "https://localhost:8080/"
        },
        "id": "g-deszB5HjdK",
        "outputId": "bb6f9cc2-7ea4-4e60-c0a0-cd8a3679e981"
      },
      "source": [
        "#Verify if there is any nan vallues\r\n",
        "print(bezdekIris.isnull().values.any())"
      ],
      "execution_count": 32,
      "outputs": [
        {
          "output_type": "stream",
          "text": [
            "False\n"
          ],
          "name": "stdout"
        }
      ]
    },
    {
      "cell_type": "code",
      "metadata": {
        "colab": {
          "base_uri": "https://localhost:8080/"
        },
        "id": "YU9lrG1vs9-7",
        "outputId": "32ad9d1b-7c2b-4640-9e5c-8b7a405fe45d"
      },
      "source": [
        "#List unique value of class\r\n",
        "Iris_class=bezdekIris['class'].unique()\r\n",
        "print(Iris_class)"
      ],
      "execution_count": 33,
      "outputs": [
        {
          "output_type": "stream",
          "text": [
            "['Iris-setosa' 'Iris-versicolor' 'Iris-virginica']\n"
          ],
          "name": "stdout"
        }
      ]
    },
    {
      "cell_type": "code",
      "metadata": {
        "colab": {
          "base_uri": "https://localhost:8080/"
        },
        "id": "smXlAlBwwAQu",
        "outputId": "690ce1d6-3a99-4578-a76b-1f67f114fcf2"
      },
      "source": [
        "#dataframe replace all values in a column based on condition\r\n",
        "bezdekIris.loc[bezdekIris['class'] == 'Iris-setosa', 'class'] = 1\r\n",
        "bezdekIris.loc[bezdekIris['class'] == 'Iris-versicolor', 'class'] = 2\r\n",
        "bezdekIris.loc[bezdekIris['class'] == 'Iris-virginica', 'class'] = 3\r\n",
        "print(bezdekIris)\r\n",
        "Iris_class=bezdekIris['class'].unique()\r\n",
        "print(Iris_class)"
      ],
      "execution_count": 34,
      "outputs": [
        {
          "output_type": "stream",
          "text": [
            "    sepal_length sepal_width petal_length petal_width class\n",
            "0            4.9           3          1.4         0.2     1\n",
            "1            4.7         3.2          1.3         0.2     1\n",
            "2            4.6         3.1          1.5         0.2     1\n",
            "3              5         3.6          1.4         0.2     1\n",
            "4            5.4         3.9          1.7         0.4     1\n",
            "..           ...         ...          ...         ...   ...\n",
            "145          6.3         2.5            5         1.9     3\n",
            "146          6.5           3          5.2           2     3\n",
            "147          6.2         3.4          5.4         2.3     3\n",
            "148          5.9           3          5.1         1.8     3\n",
            "149          5.1         3.5          1.4         0.2     1\n",
            "\n",
            "[150 rows x 5 columns]\n",
            "[1 2 3]\n"
          ],
          "name": "stdout"
        }
      ]
    },
    {
      "cell_type": "code",
      "metadata": {
        "colab": {
          "base_uri": "https://localhost:8080/"
        },
        "id": "b4oeuOTTxOgt",
        "outputId": "2b7ab345-bab7-4ede-e47d-c87e42f5b251"
      },
      "source": [
        "#split dataset into features & labels\r\n",
        "\r\n",
        "features = bezdekIris[['sepal_length', 'sepal_width' ,'petal_length', 'petal_width']]\r\n",
        "label = bezdekIris[['class']]\r\n",
        "print(features)\r\n",
        "print(label)"
      ],
      "execution_count": 35,
      "outputs": [
        {
          "output_type": "stream",
          "text": [
            "    sepal_length sepal_width petal_length petal_width\n",
            "0            4.9           3          1.4         0.2\n",
            "1            4.7         3.2          1.3         0.2\n",
            "2            4.6         3.1          1.5         0.2\n",
            "3              5         3.6          1.4         0.2\n",
            "4            5.4         3.9          1.7         0.4\n",
            "..           ...         ...          ...         ...\n",
            "145          6.3         2.5            5         1.9\n",
            "146          6.5           3          5.2           2\n",
            "147          6.2         3.4          5.4         2.3\n",
            "148          5.9           3          5.1         1.8\n",
            "149          5.1         3.5          1.4         0.2\n",
            "\n",
            "[150 rows x 4 columns]\n",
            "    class\n",
            "0       1\n",
            "1       1\n",
            "2       1\n",
            "3       1\n",
            "4       1\n",
            "..    ...\n",
            "145     3\n",
            "146     3\n",
            "147     3\n",
            "148     3\n",
            "149     1\n",
            "\n",
            "[150 rows x 1 columns]\n"
          ],
          "name": "stdout"
        }
      ]
    },
    {
      "cell_type": "code",
      "metadata": {
        "colab": {
          "base_uri": "https://localhost:8080/"
        },
        "id": "1G3yfPXc13Xx",
        "outputId": "4057ea78-7f76-4816-c715-f8b9cba3e9c8"
      },
      "source": [
        "#TrainTestSplit\r\n",
        "from sklearn.model_selection import train_test_split\r\n",
        "\r\n",
        "x_train,x_test,y_train,y_test=train_test_split(features,label,test_size=0.2)\r\n",
        "print(\"x_train:\\n\",x_train)\r\n",
        "print(\"x_test:\\n\",x_test)\r\n",
        "print(\"y_train:\\n\",y_train)\r\n",
        "print(\"y_test:\\n\",y_test)"
      ],
      "execution_count": 36,
      "outputs": [
        {
          "output_type": "stream",
          "text": [
            "x_train:\n",
            "     sepal_length sepal_width petal_length petal_width\n",
            "72           6.1         2.8          4.7         1.2\n",
            "82             6         2.7          5.1         1.6\n",
            "2            4.6         3.1          1.5         0.2\n",
            "90           6.1           3          4.6         1.4\n",
            "31           5.2         4.1          1.5         0.1\n",
            "..           ...         ...          ...         ...\n",
            "68           5.6         2.5          3.9         1.1\n",
            "51           6.9         3.1          4.9         1.5\n",
            "41           4.4         3.2          1.3         0.2\n",
            "1            4.7         3.2          1.3         0.2\n",
            "149          5.1         3.5          1.4         0.2\n",
            "\n",
            "[120 rows x 4 columns]\n",
            "x_test:\n",
            "     sepal_length sepal_width petal_length petal_width\n",
            "65           5.6           3          4.5         1.5\n",
            "10           4.8         3.4          1.6         0.2\n",
            "53           6.5         2.8          4.6         1.5\n",
            "48             5         3.3          1.4         0.2\n",
            "19           5.4         3.4          1.7         0.2\n",
            "0            4.9           3          1.4         0.2\n",
            "139          6.7         3.1          5.6         2.4\n",
            "74           6.6           3          4.4         1.4\n",
            "86           6.3         2.3          4.4         1.3\n",
            "67           6.2         2.2          4.5         1.5\n",
            "129          7.4         2.8          6.1         1.9\n",
            "113          5.8         2.8          5.1         2.4\n",
            "59             5           2          3.5           1\n",
            "79           5.5         2.4          3.8         1.1\n",
            "137            6           3          4.8         1.8\n",
            "138          6.9         3.1          5.4         2.1\n",
            "18           5.1         3.8          1.5         0.3\n",
            "88           5.5         2.5            4         1.3\n",
            "125          6.2         2.8          4.8         1.8\n",
            "56           4.9         2.4          3.3           1\n",
            "5            4.6         3.4          1.4         0.3\n",
            "103          6.5           3          5.8         2.2\n",
            "6              5         3.4          1.5         0.2\n",
            "62           6.1         2.9          4.7         1.4\n",
            "108          7.2         3.6          6.1         2.5\n",
            "131          6.4         2.8          5.6         2.2\n",
            "55           6.3         3.3          4.7         1.6\n",
            "24             5           3          1.6         0.2\n",
            "144          6.7           3          5.2         2.3\n",
            "69           5.9         3.2          4.8         1.8\n",
            "y_train:\n",
            "     class\n",
            "72      2\n",
            "82      2\n",
            "2       1\n",
            "90      2\n",
            "31      1\n",
            "..    ...\n",
            "68      2\n",
            "51      2\n",
            "41      1\n",
            "1       1\n",
            "149     1\n",
            "\n",
            "[120 rows x 1 columns]\n",
            "y_test:\n",
            "     class\n",
            "65      2\n",
            "10      1\n",
            "53      2\n",
            "48      1\n",
            "19      1\n",
            "0       1\n",
            "139     3\n",
            "74      2\n",
            "86      2\n",
            "67      2\n",
            "129     3\n",
            "113     3\n",
            "59      2\n",
            "79      2\n",
            "137     3\n",
            "138     3\n",
            "18      1\n",
            "88      2\n",
            "125     3\n",
            "56      2\n",
            "5       1\n",
            "103     3\n",
            "6       1\n",
            "62      2\n",
            "108     3\n",
            "131     3\n",
            "55      2\n",
            "24      1\n",
            "144     3\n",
            "69      2\n"
          ],
          "name": "stdout"
        }
      ]
    },
    {
      "cell_type": "code",
      "metadata": {
        "colab": {
          "base_uri": "https://localhost:8080/"
        },
        "id": "uX39-RlvWI0P",
        "outputId": "3e959cc3-174d-4ea7-fbb3-407e2540e03c"
      },
      "source": [
        "# Build a logistic regression model\r\n",
        "#Step 1: Import the class you plan to use\r\n",
        "from sklearn.neighbors import KNeighborsClassifier\r\n",
        "\r\n",
        "#Step 2: \"Instantiate\" the \"estimator\"\r\n",
        "knn=KNeighborsClassifier(n_neighbors=9)\r\n",
        "# Fit the model\r\n",
        "\r\n",
        "#features=features.astype('float').dtypes\r\n",
        "#label=label.astype('float').dtypes\r\n",
        "#features= float(features)\r\n",
        "\r\n",
        "#features = features.astype('float64') \r\n",
        "#label = label.astype('float64') \r\n",
        "\r\n",
        "knn.fit(x_train,y_train)\r\n",
        "#Step 4: Predict the response for a new observation\r\n",
        "print(knn.predict([[2.1,2,1,1.6]]))\r\n",
        "new_obs=[[2.6,3.5,2,4],[1.2,2,2.3,4],[2.2,1.5,5,7]]\r\n",
        "print(knn.predict(new_obs))\r\n"
      ],
      "execution_count": 54,
      "outputs": [
        {
          "output_type": "stream",
          "text": [
            "[1.]\n",
            "[1. 1. 3.]\n"
          ],
          "name": "stdout"
        },
        {
          "output_type": "stream",
          "text": [
            "/usr/local/lib/python3.6/dist-packages/ipykernel_launcher.py:16: DataConversionWarning: A column-vector y was passed when a 1d array was expected. Please change the shape of y to (n_samples, ), for example using ravel().\n",
            "  app.launch_new_instance()\n"
          ],
          "name": "stderr"
        }
      ]
    }
  ]
}